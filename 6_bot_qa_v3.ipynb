{
  "cells": [
    {
      "cell_type": "markdown",
      "metadata": {
        "id": "pfa39F4lsLf3"
      },
      "source": [
        "<img src=\"https://github.com/hernancontigiani/ceia_memorias_especializacion/raw/master/Figures/logoFIUBA.jpg\" width=\"500\" align=\"center\">\n",
        "\n",
        "\n",
        "# Procesamiento de lenguaje natural\n",
        "## LSTM Bot QA"
      ]
    },
    {
      "cell_type": "markdown",
      "metadata": {
        "id": "ZqO0PRcFsPTe"
      },
      "source": [
        "### Datos\n",
        "El objecto es utilizar datos disponibles del challenge ConvAI2 (Conversational Intelligence Challenge 2) de conversaciones en inglés. Se construirá un BOT para responder a preguntas del usuario (QA).\\\n",
        "[LINK](http://convai.io/data/)"
      ]
    },
    {
      "cell_type": "code",
      "execution_count": null,
      "metadata": {
        "id": "bDFC0I3j9oFD"
      },
      "outputs": [],
      "source": [
        "!pip install --upgrade --no-cache-dir gdown --quiet\n",
        "#Instalo Fasttext\n",
        "#!pip install Fasttext"
      ]
    },
    {
      "cell_type": "code",
      "execution_count": 2,
      "metadata": {
        "id": "cq3YXak9sGHd",
        "colab": {
          "base_uri": "https://localhost:8080/"
        },
        "outputId": "93b0a1f0-0c8e-4960-9822-0c4c52db4e52"
      },
      "outputs": [
        {
          "output_type": "stream",
          "name": "stdout",
          "text": [
            "Mounted at /content/drive\n"
          ]
        }
      ],
      "source": [
        "import re\n",
        "import numpy as np\n",
        "import pandas as pd\n",
        "import matplotlib.pyplot as plt\n",
        "from keras.optimizers import Adam\n",
        "import tensorflow.keras.callbacks\n",
        "from keras.preprocessing.text import text_to_word_sequence\n",
        "import tensorflow as tf\n",
        "from keras.preprocessing.text import one_hot\n",
        "from tensorflow.keras.utils import pad_sequences\n",
        "from keras.models import Sequential\n",
        "from keras.layers import Activation, Dropout, Dense\n",
        "from keras.layers import Flatten, LSTM, SimpleRNN\n",
        "from keras.models import Model, load_model\n",
        "from tensorflow.keras.layers import Embedding\n",
        "from sklearn.model_selection import train_test_split\n",
        "from keras.preprocessing.text import Tokenizer\n",
        "from keras.layers import Input\n",
        "from google.colab import drive\n",
        "#!import fasttext.util\n",
        "# Montar Google Drive\n",
        "drive.mount('/content/drive')\n"
      ]
    },
    {
      "cell_type": "code",
      "execution_count": 3,
      "metadata": {
        "id": "RHNkUaPp6aYq",
        "colab": {
          "base_uri": "https://localhost:8080/"
        },
        "outputId": "280f4a44-2fa3-4089-969b-c1d95e02c33a"
      },
      "outputs": [
        {
          "output_type": "stream",
          "name": "stderr",
          "text": [
            "Downloading...\n",
            "From: https://drive.google.com/uc?id=1awUxYwImF84MIT5-jCaYAPe2QwSgS1hN&export=download\n",
            "To: /content/data_volunteers.json\n",
            "100%|██████████| 2.58M/2.58M [00:00<00:00, 16.7MB/s]\n"
          ]
        }
      ],
      "source": [
        "# Descargar la carpeta de dataset\n",
        "import os\n",
        "import gdown\n",
        "if os.access('data_volunteers.json', os.F_OK) is False:\n",
        "    url = 'https://drive.google.com/uc?id=1awUxYwImF84MIT5-jCaYAPe2QwSgS1hN&export=download'\n",
        "    output = 'data_volunteers.json'\n",
        "    gdown.download(url, output, quiet=False)\n",
        "else:\n",
        "    print(\"El dataset ya se encuentra descargado\")"
      ]
    },
    {
      "cell_type": "code",
      "execution_count": 4,
      "metadata": {
        "id": "WZy1-wgG-Rp7"
      },
      "outputs": [],
      "source": [
        "# dataset_file\n",
        "import json\n",
        "\n",
        "text_file = \"data_volunteers.json\"\n",
        "with open(text_file) as f:\n",
        "    data = json.load(f) # la variable data será un diccionario\n"
      ]
    },
    {
      "cell_type": "code",
      "execution_count": 5,
      "metadata": {
        "id": "ue5qd54S-eew",
        "colab": {
          "base_uri": "https://localhost:8080/"
        },
        "outputId": "3b957488-8a3d-4e70-a789-daed4bc2e064"
      },
      "outputs": [
        {
          "output_type": "execute_result",
          "data": {
            "text/plain": [
              "dict_keys(['dialog', 'start_time', 'end_time', 'bot_profile', 'user_profile', 'eval_score', 'profile_match', 'participant1_id', 'participant2_id'])"
            ]
          },
          "metadata": {},
          "execution_count": 5
        }
      ],
      "source": [
        "# Observar los campos disponibles en cada linea del dataset\n",
        "data[0].keys()"
      ]
    },
    {
      "cell_type": "code",
      "execution_count": 6,
      "metadata": {
        "id": "jHBRAXPl-3dz",
        "colab": {
          "base_uri": "https://localhost:8080/"
        },
        "outputId": "14120b35-c9ce-4cd1-af3d-963dc3c6d866"
      },
      "outputs": [
        {
          "output_type": "stream",
          "name": "stdout",
          "text": [
            "Cantidad de rows utilizadas: 6033\n"
          ]
        }
      ],
      "source": [
        "chat_in = []\n",
        "chat_out = []\n",
        "\n",
        "input_sentences = []\n",
        "output_sentences = []\n",
        "output_sentences_inputs = []\n",
        "max_len = 30\n",
        "\n",
        "def clean_text(txt):\n",
        "    txt = txt.lower()\n",
        "    txt.replace(\"\\'d\", \" had\")\n",
        "    txt.replace(\"\\'s\", \" is\")\n",
        "    txt.replace(\"\\'m\", \" am\")\n",
        "    txt.replace(\"don't\", \"do not\")\n",
        "    txt = re.sub(r'\\W+', ' ', txt)\n",
        "\n",
        "    return txt\n",
        "\n",
        "for line in data:\n",
        "    for i in range(len(line['dialog'])-1):\n",
        "        # vamos separando el texto en \"preguntas\" (chat_in)\n",
        "        # y \"respuestas\" (chat_out)\n",
        "        chat_in = clean_text(line['dialog'][i]['text'])\n",
        "        chat_out = clean_text(line['dialog'][i+1]['text'])\n",
        "\n",
        "        if len(chat_in) >= max_len or len(chat_out) >= max_len:\n",
        "            continue\n",
        "\n",
        "        input_sentence, output = chat_in, chat_out\n",
        "\n",
        "        # output sentence (decoder_output) tiene <eos>\n",
        "        output_sentence = output + ' <eos>'\n",
        "        # output sentence input (decoder_input) tiene <sos>\n",
        "        output_sentence_input = '<sos> ' + output\n",
        "\n",
        "        input_sentences.append(input_sentence)\n",
        "        output_sentences.append(output_sentence)\n",
        "        output_sentences_inputs.append(output_sentence_input)\n",
        "\n",
        "print(\"Cantidad de rows utilizadas:\", len(input_sentences))"
      ]
    },
    {
      "cell_type": "code",
      "execution_count": 7,
      "metadata": {
        "id": "07L1qj8pC_l6",
        "colab": {
          "base_uri": "https://localhost:8080/"
        },
        "outputId": "3576554c-829e-4e41-f570-22160c064fcd"
      },
      "outputs": [
        {
          "output_type": "execute_result",
          "data": {
            "text/plain": [
              "('hello there', 'hey there how are you  <eos>', '<sos> hey there how are you ')"
            ]
          },
          "metadata": {},
          "execution_count": 7
        }
      ],
      "source": [
        "input_sentences[28], output_sentences[28], output_sentences_inputs[28]"
      ]
    },
    {
      "cell_type": "markdown",
      "metadata": {
        "id": "8P-ynUNP5xp6"
      },
      "source": [
        "### 2 - Preprocesamiento\n",
        "Realizar el preprocesamiento necesario para obtener:\n",
        "- word2idx_inputs, max_input_len\n",
        "- word2idx_outputs, max_out_len, num_words_output\n",
        "- encoder_input_sequences, decoder_output_sequences, decoder_targets"
      ]
    },
    {
      "cell_type": "code",
      "source": [
        "#Obtengo word2idx_inputs\n",
        "\n",
        "#Agrego preprocesamiento al corpus\n",
        "def preprocess_text(text):\n",
        "    # Convertir a minúsculas\n",
        "    text = text.lower()\n",
        "    # Remover puntos (puntuaciones)\n",
        "    text = re.sub(r'\\.', '', text)\n",
        "    return text\n",
        "\n",
        "corpus_input_sentences= ''.join(input_sentences)\n",
        "\n",
        "corpus_input_sentences = np.vectorize(preprocess_text)(corpus_input_sentences)\n",
        "corpus_input_sentences= np.array([corpus_input_sentences])\n",
        "\n",
        "\n",
        "num_words = 8000\n",
        "vocab_size = num_words\n",
        "\n",
        "#Instancio el tokenizer con el vocab_size sugerido\n",
        "tokenizer_input = Tokenizer(num_words =8000, oov_token=\"<UNK>\")\n",
        "tokenizer_input.fit_on_texts(corpus_input_sentences)\n",
        "\n",
        "word_index_in = tokenizer_input.word_index\n",
        "word_index_in = {word: index for word, index in word_index_in.items() if index <= 8000}"
      ],
      "metadata": {
        "id": "JXZ6aUMAWykc"
      },
      "execution_count": 8,
      "outputs": []
    },
    {
      "cell_type": "code",
      "source": [
        "#Obtengo num_words_input\n",
        "num_words_input = len(word_index_in)\n",
        "num_words_input"
      ],
      "metadata": {
        "colab": {
          "base_uri": "https://localhost:8080/"
        },
        "id": "aA-CdOFxzGQB",
        "outputId": "6e2aa40d-78d2-4485-ca06-9bc3eac6c267"
      },
      "execution_count": 9,
      "outputs": [
        {
          "output_type": "execute_result",
          "data": {
            "text/plain": [
              "3073"
            ]
          },
          "metadata": {},
          "execution_count": 9
        }
      ]
    },
    {
      "cell_type": "code",
      "source": [
        "#Transformo los inputs en secuencias de tokens\n",
        "tokenized_input = tokenizer_input.texts_to_sequences(input_sentences)\n",
        "tokenized_input[:10]"
      ],
      "metadata": {
        "id": "tEaWapWPuw9M",
        "colab": {
          "base_uri": "https://localhost:8080/"
        },
        "outputId": "a4cc8c9d-b7ab-46ce-81db-68244bf2c5e6"
      },
      "execution_count": 10,
      "outputs": [
        {
          "output_type": "execute_result",
          "data": {
            "text/plain": [
              "[[91],\n",
              " [59, 13, 7, 2],\n",
              " [59],\n",
              " [59],\n",
              " [59],\n",
              " [68, 7, 2, 387],\n",
              " [252],\n",
              " [68, 7, 2, 32],\n",
              " [4, 9, 32, 503, 30, 2],\n",
              " [4, 87, 118, 801, 29, 19, 171]]"
            ]
          },
          "metadata": {},
          "execution_count": 10
        }
      ]
    },
    {
      "cell_type": "code",
      "source": [
        "#Obtengo max_input_len\n",
        "max_input_len_idx = np.argmax([len(sentence) for sentence in tokenized_input])\n",
        "max_input_len = len(tokenized_input[max_input_len_idx])\n",
        "max_input_len"
      ],
      "metadata": {
        "colab": {
          "base_uri": "https://localhost:8080/"
        },
        "id": "CYwHf86boRB1",
        "outputId": "324c6006-3130-4f84-bad9-c3ba92f6e987"
      },
      "execution_count": 11,
      "outputs": [
        {
          "output_type": "execute_result",
          "data": {
            "text/plain": [
              "9"
            ]
          },
          "metadata": {},
          "execution_count": 11
        }
      ]
    },
    {
      "cell_type": "code",
      "source": [
        "#Obtengo word2idx_outputs\n",
        "\n",
        "#Agrego preprocesamiento al corpus\n",
        "def preprocess_text(text):\n",
        "    # Convertir a minúsculas\n",
        "    text = text.lower()\n",
        "    # Remover puntos (puntuaciones)\n",
        "    text = re.sub(r'\\.', '', text)\n",
        "    return text\n",
        "\n",
        "corpus_output = ''.join(output_sentences)\n",
        "\n",
        "corpus_output_input = ''.join(output_sentences_inputs)\n",
        "\n",
        "corpus_output_sentences = corpus_output + corpus_output_input\n",
        "\n",
        "corpus_output_sentences = np.vectorize(preprocess_text)(corpus_output_sentences)\n",
        "corpus_output_sentences= np.array([corpus_output_sentences])\n",
        "\n",
        "\n",
        "num_words = 8000\n",
        "vocab_size = num_words\n",
        "\n",
        "#Instancio el tokenizer con el vocab_size sugerido\n",
        "tokenizer_output = Tokenizer(num_words =8000, oov_token=\"<UNK>\")\n",
        "\n",
        "# Agrego <sos> y <eos> al vocabulario\n",
        "sos_token = '<sos>'\n",
        "eos_token = '<eos>'\n",
        "tokenizer_output.word_index[sos_token] = len(tokenizer_output.word_index) + 1\n",
        "tokenizer_output.word_index[eos_token] = len(tokenizer_output.word_index) + 1\n",
        "\n",
        "tokenizer_output.fit_on_texts(corpus_output_sentences)\n",
        "\n",
        "word_index_out = tokenizer_output.word_index\n",
        "word_index_out = {word: index for word, index in word_index_out.items() if index <= 8000}"
      ],
      "metadata": {
        "id": "Fpxpi3uYWyf7"
      },
      "execution_count": 12,
      "outputs": []
    },
    {
      "cell_type": "code",
      "source": [
        "def index_to_word_output(index, word_index_out):\n",
        "    \"\"\"Convierte un índice a una palabra utilizando el diccionario word_index_dict.\"\"\"\n",
        "    word = next((word for word, idx in word_index_out.items() if idx == index), None)\n",
        "    return word"
      ],
      "metadata": {
        "id": "pGkYBacZ02EY"
      },
      "execution_count": 13,
      "outputs": []
    },
    {
      "cell_type": "code",
      "source": [
        "#Transformo los outputs en secuencias de tokens\n",
        "tokenized_output = tokenizer_output.texts_to_sequences(output_sentences)\n",
        "\n",
        "#Obtengo max_output_len\n",
        "max_output_len_idx = np.argmax([len(sentence) for sentence in tokenized_output])\n",
        "max_output_len = len(tokenized_output[max_output_len_idx])\n",
        "max_output_len"
      ],
      "metadata": {
        "colab": {
          "base_uri": "https://localhost:8080/"
        },
        "id": "21C4KAFvWybu",
        "outputId": "ce672375-9ba3-46d5-f9f3-71cc149f8de7"
      },
      "execution_count": 14,
      "outputs": [
        {
          "output_type": "execute_result",
          "data": {
            "text/plain": [
              "10"
            ]
          },
          "metadata": {},
          "execution_count": 14
        }
      ]
    },
    {
      "cell_type": "code",
      "source": [
        "#Obtengo num_words_output\n",
        "num_words_output = len(word_index_out)\n",
        "num_words_output"
      ],
      "metadata": {
        "colab": {
          "base_uri": "https://localhost:8080/"
        },
        "id": "PZkp0vsYWyE9",
        "outputId": "eddde142-3bed-4427-91f3-e0da53f2734e"
      },
      "execution_count": 15,
      "outputs": [
        {
          "output_type": "execute_result",
          "data": {
            "text/plain": [
              "1807"
            ]
          },
          "metadata": {},
          "execution_count": 15
        }
      ]
    },
    {
      "cell_type": "code",
      "source": [
        "#Obtengo encoder_input_sequences, decoder_output_sequences, decoder_targets\n",
        "encoder_input_sequences = tokenizer_input.texts_to_sequences(input_sentences)\n",
        "decoder_output_sequences = tokenizer_output.texts_to_sequences(output_sentences)\n",
        "decoder_targets = tokenizer_output.texts_to_sequences(output_sentences_inputs)"
      ],
      "metadata": {
        "id": "fDAoxutrFAhG"
      },
      "execution_count": 16,
      "outputs": []
    },
    {
      "cell_type": "markdown",
      "metadata": {
        "id": "_CJIsLBbj6rg"
      },
      "source": [
        "### 3 - Preparar los embeddings\n",
        "Utilizar los embeddings de Glove o FastText para transformar los tokens de entrada en vectores"
      ]
    },
    {
      "cell_type": "code",
      "source": [
        "#Cargo embeddings preentrenados de Fasttext\n",
        "# Ruta donde guardo el modelo\n",
        "model_path = '/content/drive/My Drive/cc.en.300.bin'\n",
        "\n",
        "# Cargar el modelo\n",
        "ft = fasttext.load_model(model_path)"
      ],
      "metadata": {
        "id": "Gj9nY4jY2PLo"
      },
      "execution_count": null,
      "outputs": []
    },
    {
      "cell_type": "code",
      "source": [
        "#Genero mi matriz de embeddings en base a los embeddings de fasttext\n",
        "embedding_matrix = np.zeros((vocab_size+1, 300))\n",
        "for word, i in tokenizer_input.word_index.items():\n",
        "    if word in ft.get_words():\n",
        "      print(i)\n",
        "      embedding_matrix[i] = ft.get_word_vector(word)"
      ],
      "metadata": {
        "id": "TuLW6PL62O8X"
      },
      "execution_count": null,
      "outputs": []
    },
    {
      "cell_type": "code",
      "source": [
        "#Guardo la matriz personalizada de embeddings\n",
        "#np.save('/content/drive/My Drive/', embedding_matrix_6)\n",
        "\n",
        "#Cargo la matriz de embeddings\n",
        "embedding_matrix = np.load('/content/drive/My Drive/embedding_matrix_6.npy')\n",
        "\n",
        "#Ajusto la matriz de embeddings al tamaño del vocabulario de entrada (la había definido en vocab_size=8000 previamente)\n",
        "embedding_matrix_6 = embedding_matrix[:3074, :]\n",
        "embedding_matrix_6.shape"
      ],
      "metadata": {
        "id": "BwsHX2hv2p05",
        "colab": {
          "base_uri": "https://localhost:8080/"
        },
        "outputId": "70cc6d17-f3d1-4814-8453-30829c10ea95"
      },
      "execution_count": 18,
      "outputs": [
        {
          "output_type": "execute_result",
          "data": {
            "text/plain": [
              "(3074, 300)"
            ]
          },
          "metadata": {},
          "execution_count": 18
        }
      ]
    },
    {
      "cell_type": "code",
      "source": [
        "#Realizo el padding\n",
        "encoder_input_data = pad_sequences(encoder_input_sequences, padding='post')\n",
        "decoder_input_data = pad_sequences(decoder_targets, padding='post') #Es el decoder target desplazado\n",
        "decoder_target_data = pad_sequences(decoder_output_sequences, padding='post')\n",
        "print(encoder_input_data.shape)\n",
        "print(decoder_input_data.shape)\n",
        "print(decoder_target_data.shape)"
      ],
      "metadata": {
        "id": "yKVqTSddMoHU"
      },
      "execution_count": null,
      "outputs": []
    },
    {
      "cell_type": "code",
      "source": [
        "#Divido dataset en train y test\n",
        "from sklearn.model_selection import train_test_split\n",
        "\n",
        "# Dividir los datos en conjuntos de entrenamiento y prueba\n",
        "encoder_input_train, encoder_input_test, \\\n",
        "decoder_input_train, decoder_input_test, \\\n",
        "decoder_target_train, decoder_target_test = train_test_split(\n",
        "    encoder_input_data, decoder_input_data, decoder_target_data,\n",
        "    test_size=0.2, random_state=42,shuffle=True,\n",
        ")\n"
      ],
      "metadata": {
        "id": "aDMosBeuMoC1"
      },
      "execution_count": 20,
      "outputs": []
    },
    {
      "cell_type": "code",
      "source": [
        "from keras.models import Model\n",
        "from keras.layers import Input, LSTM, Embedding, Dense\n",
        "\n",
        "\n",
        "#Defino el Encoder ---\n",
        "embedding_size_encoder = 300\n",
        "#dropout_rate = 0.1\n",
        "latent_dim = 128\n",
        "encoder_inputs = Input(shape=(max_input_len,))\n",
        "encoder_embedding = Embedding(input_dim = num_words_input+1,\n",
        "                              mask_zero=True,\n",
        "                              output_dim=embedding_size_encoder,\n",
        "                              input_length=max_input_len,\n",
        "                              weights=[embedding_matrix_6],  # Asigno los embeddings preentrenados\n",
        "                              trainable=True)(encoder_inputs)\n",
        "encoder_lstm = LSTM(latent_dim, return_state=True)\n",
        "encoder_lstm_output, state_h, state_c = encoder_lstm(encoder_embedding)\n",
        "#encoder_lstm_output = Dropout(dropout_rate)(encoder_lstm_output)  # Capa de Dropout\n",
        "dense_layer = Dense(64, activation='relu')\n",
        "encoder_output_dense = dense_layer(encoder_lstm_output)\n",
        "encoder_states = [state_h, state_c]\n",
        "\n",
        "# Defino el Decoder\n",
        "embedding_size_decoder = 300\n",
        "decoder_inputs = Input(shape=(max_output_len,))\n",
        "decoder_embedding = Embedding(input_dim=num_words_output+1,\n",
        "                              mask_zero=True,\n",
        "                              output_dim=embedding_size_decoder,\n",
        "                              input_length=max_output_len)(decoder_inputs)\n",
        "decoder_lstm = LSTM(latent_dim, return_sequences=True, return_state=True)\n",
        "decoder_outputs, _, _ = decoder_lstm(decoder_embedding, initial_state=encoder_states)\n",
        "dense_layer_decoder = Dense(64, activation='relu')\n",
        "decoder_output_dense = dense_layer_decoder(decoder_outputs)\n",
        "decoder_dense = Dense(num_words_output+1)\n",
        "#decoder_outputs = Dropout(dropout_rate)(decoder_outputs)  # Capa de Dropout\n",
        "decoder_outputs = decoder_dense(decoder_outputs)\n",
        "\n",
        "# --- Defino el Modelo Seq2Seq Completo ---\n",
        "model = Model([encoder_inputs, decoder_inputs], decoder_outputs)\n",
        "\n",
        "# --- Compilo el Modelo ---\n",
        "model.compile(optimizer=Adam(learning_rate=0.00005), loss='sparse_categorical_crossentropy',metrics= ['accuracy'])"
      ],
      "metadata": {
        "id": "cuvj7UrSDP7k"
      },
      "execution_count": 73,
      "outputs": []
    },
    {
      "cell_type": "markdown",
      "metadata": {
        "id": "3vKbhjtIwPgM"
      },
      "source": [
        "### 4 - Entrenar el modelo\n",
        "Entrenar un modelo basado en el esquema encoder-decoder utilizando los datos generados en los puntos anteriores. Utilce como referencias los ejemplos vistos en clase."
      ]
    },
    {
      "cell_type": "code",
      "source": [
        "hist = model.fit(\n",
        "    [encoder_input_train, decoder_input_train],\n",
        "    decoder_target_train,\n",
        "    batch_size=64,\n",
        "    validation_data=([encoder_input_test, decoder_input_test], decoder_target_test),\n",
        "    epochs=100\n",
        ")"
      ],
      "metadata": {
        "id": "EVMvhcxcaBVy",
        "colab": {
          "base_uri": "https://localhost:8080/"
        },
        "outputId": "c247a6e4-958f-41e7-91a0-1ccc2538ed54"
      },
      "execution_count": 74,
      "outputs": [
        {
          "output_type": "stream",
          "name": "stdout",
          "text": [
            "Epoch 1/100\n",
            "76/76 [==============================] - 20s 145ms/step - loss: 9.3714 - accuracy: 0.0674 - val_loss: 7.9801 - val_accuracy: 0.1394\n",
            "Epoch 2/100\n",
            "76/76 [==============================] - 3s 40ms/step - loss: 7.0451 - accuracy: 0.1768 - val_loss: 6.8259 - val_accuracy: 0.2020\n",
            "Epoch 3/100\n",
            "76/76 [==============================] - 2s 32ms/step - loss: 6.3609 - accuracy: 0.2039 - val_loss: 6.4828 - val_accuracy: 0.2111\n",
            "Epoch 4/100\n",
            "76/76 [==============================] - 3s 41ms/step - loss: 6.0802 - accuracy: 0.2099 - val_loss: 6.3227 - val_accuracy: 0.2113\n",
            "Epoch 5/100\n",
            "76/76 [==============================] - 3s 42ms/step - loss: 5.9132 - accuracy: 0.2082 - val_loss: 6.2307 - val_accuracy: 0.2075\n",
            "Epoch 6/100\n",
            "76/76 [==============================] - 2s 27ms/step - loss: 5.7813 - accuracy: 0.2058 - val_loss: 6.1559 - val_accuracy: 0.2053\n",
            "Epoch 7/100\n",
            "76/76 [==============================] - 2s 26ms/step - loss: 5.6754 - accuracy: 0.2038 - val_loss: 6.0718 - val_accuracy: 0.2048\n",
            "Epoch 8/100\n",
            "76/76 [==============================] - 2s 27ms/step - loss: 5.5689 - accuracy: 0.2034 - val_loss: 5.9862 - val_accuracy: 0.2045\n",
            "Epoch 9/100\n",
            "76/76 [==============================] - 2s 26ms/step - loss: 5.4565 - accuracy: 0.2047 - val_loss: 5.9134 - val_accuracy: 0.2070\n",
            "Epoch 10/100\n",
            "76/76 [==============================] - 3s 35ms/step - loss: 5.4611 - accuracy: 0.2080 - val_loss: 5.9612 - val_accuracy: 0.2101\n",
            "Epoch 11/100\n",
            "76/76 [==============================] - 3s 45ms/step - loss: 5.4111 - accuracy: 0.2168 - val_loss: 5.8609 - val_accuracy: 0.2216\n",
            "Epoch 12/100\n",
            "76/76 [==============================] - 2s 25ms/step - loss: 5.2838 - accuracy: 0.2293 - val_loss: 5.7790 - val_accuracy: 0.2372\n",
            "Epoch 13/100\n",
            "76/76 [==============================] - 2s 28ms/step - loss: 5.1813 - accuracy: 0.2460 - val_loss: 5.7135 - val_accuracy: 0.2550\n",
            "Epoch 14/100\n",
            "76/76 [==============================] - 2s 24ms/step - loss: 5.0810 - accuracy: 0.2811 - val_loss: 5.6688 - val_accuracy: 0.2874\n",
            "Epoch 15/100\n",
            "76/76 [==============================] - 2s 28ms/step - loss: 5.0374 - accuracy: 0.2958 - val_loss: 5.6574 - val_accuracy: 0.2833\n",
            "Epoch 16/100\n",
            "76/76 [==============================] - 2s 29ms/step - loss: 4.9526 - accuracy: 0.3060 - val_loss: 5.6046 - val_accuracy: 0.2940\n",
            "Epoch 17/100\n",
            "76/76 [==============================] - 4s 48ms/step - loss: 4.8616 - accuracy: 0.3246 - val_loss: 5.5436 - val_accuracy: 0.3060\n",
            "Epoch 18/100\n",
            "76/76 [==============================] - 2s 22ms/step - loss: 4.8009 - accuracy: 0.3391 - val_loss: 5.6011 - val_accuracy: 0.3014\n",
            "Epoch 19/100\n",
            "76/76 [==============================] - 2s 26ms/step - loss: 4.7923 - accuracy: 0.3380 - val_loss: 5.5133 - val_accuracy: 0.3261\n",
            "Epoch 20/100\n",
            "76/76 [==============================] - 2s 26ms/step - loss: 4.6607 - accuracy: 0.3621 - val_loss: 5.4521 - val_accuracy: 0.3409\n",
            "Epoch 21/100\n",
            "76/76 [==============================] - 2s 24ms/step - loss: 4.6304 - accuracy: 0.3669 - val_loss: 5.4153 - val_accuracy: 0.3323\n",
            "Epoch 22/100\n",
            "76/76 [==============================] - 2s 26ms/step - loss: 4.5187 - accuracy: 0.3816 - val_loss: 5.3506 - val_accuracy: 0.3602\n",
            "Epoch 23/100\n",
            "76/76 [==============================] - 3s 42ms/step - loss: 4.4248 - accuracy: 0.4028 - val_loss: 5.2807 - val_accuracy: 0.3722\n",
            "Epoch 24/100\n",
            "76/76 [==============================] - 3s 36ms/step - loss: 4.3781 - accuracy: 0.4020 - val_loss: 5.2967 - val_accuracy: 0.3768\n",
            "Epoch 25/100\n",
            "76/76 [==============================] - 2s 24ms/step - loss: 4.2524 - accuracy: 0.4205 - val_loss: 5.2538 - val_accuracy: 0.3817\n",
            "Epoch 26/100\n",
            "76/76 [==============================] - 2s 24ms/step - loss: 4.2551 - accuracy: 0.4169 - val_loss: 5.2942 - val_accuracy: 0.3682\n",
            "Epoch 27/100\n",
            "76/76 [==============================] - 2s 25ms/step - loss: 4.1523 - accuracy: 0.4310 - val_loss: 5.2968 - val_accuracy: 0.3750\n",
            "Epoch 28/100\n",
            "76/76 [==============================] - 2s 23ms/step - loss: 4.1667 - accuracy: 0.4252 - val_loss: 5.3235 - val_accuracy: 0.3768\n",
            "Epoch 29/100\n",
            "76/76 [==============================] - 2s 25ms/step - loss: 4.3795 - accuracy: 0.3841 - val_loss: 5.5044 - val_accuracy: 0.2960\n",
            "Epoch 30/100\n",
            "76/76 [==============================] - 3s 46ms/step - loss: 4.4054 - accuracy: 0.3606 - val_loss: 5.2748 - val_accuracy: 0.3323\n",
            "Epoch 31/100\n",
            "76/76 [==============================] - 2s 31ms/step - loss: 4.2156 - accuracy: 0.3880 - val_loss: 5.1821 - val_accuracy: 0.3523\n",
            "Epoch 32/100\n",
            "76/76 [==============================] - 2s 26ms/step - loss: 4.1171 - accuracy: 0.4121 - val_loss: 5.1609 - val_accuracy: 0.3705\n",
            "Epoch 33/100\n",
            "76/76 [==============================] - 2s 22ms/step - loss: 4.0192 - accuracy: 0.4366 - val_loss: 5.1082 - val_accuracy: 0.3865\n",
            "Epoch 34/100\n",
            "76/76 [==============================] - 2s 24ms/step - loss: 3.9524 - accuracy: 0.4539 - val_loss: 5.1729 - val_accuracy: 0.3705\n",
            "Epoch 35/100\n",
            "76/76 [==============================] - 2s 23ms/step - loss: 4.1099 - accuracy: 0.4324 - val_loss: 5.4353 - val_accuracy: 0.3389\n",
            "Epoch 36/100\n",
            "76/76 [==============================] - 3s 35ms/step - loss: 4.1722 - accuracy: 0.4088 - val_loss: 5.0601 - val_accuracy: 0.3914\n",
            "Epoch 37/100\n",
            "76/76 [==============================] - 3s 43ms/step - loss: 3.9686 - accuracy: 0.4509 - val_loss: 5.0525 - val_accuracy: 0.4011\n",
            "Epoch 38/100\n",
            "76/76 [==============================] - 2s 25ms/step - loss: 3.8779 - accuracy: 0.4660 - val_loss: 5.0601 - val_accuracy: 0.4070\n",
            "Epoch 39/100\n",
            "76/76 [==============================] - 2s 24ms/step - loss: 4.2108 - accuracy: 0.3839 - val_loss: 5.4694 - val_accuracy: 0.2756\n",
            "Epoch 40/100\n",
            "76/76 [==============================] - 2s 26ms/step - loss: 4.3532 - accuracy: 0.3315 - val_loss: 5.1778 - val_accuracy: 0.3376\n",
            "Epoch 41/100\n",
            "76/76 [==============================] - 2s 26ms/step - loss: 4.1339 - accuracy: 0.3966 - val_loss: 5.0605 - val_accuracy: 0.3824\n",
            "Epoch 42/100\n",
            "76/76 [==============================] - 2s 29ms/step - loss: 3.9999 - accuracy: 0.4365 - val_loss: 5.0366 - val_accuracy: 0.3883\n",
            "Epoch 43/100\n",
            "76/76 [==============================] - 3s 44ms/step - loss: 3.9237 - accuracy: 0.4479 - val_loss: 4.9991 - val_accuracy: 0.4044\n",
            "Epoch 44/100\n",
            "76/76 [==============================] - 3s 33ms/step - loss: 3.8410 - accuracy: 0.4644 - val_loss: 4.9638 - val_accuracy: 0.4140\n",
            "Epoch 45/100\n",
            "76/76 [==============================] - 2s 25ms/step - loss: 3.7731 - accuracy: 0.4767 - val_loss: 4.9665 - val_accuracy: 0.4192\n",
            "Epoch 46/100\n",
            "76/76 [==============================] - 2s 26ms/step - loss: 3.7064 - accuracy: 0.4935 - val_loss: 4.9374 - val_accuracy: 0.4324\n",
            "Epoch 47/100\n",
            "76/76 [==============================] - 2s 24ms/step - loss: 3.8424 - accuracy: 0.4679 - val_loss: 5.1110 - val_accuracy: 0.3804\n",
            "Epoch 48/100\n",
            "76/76 [==============================] - 2s 25ms/step - loss: 3.8352 - accuracy: 0.4716 - val_loss: 4.9405 - val_accuracy: 0.4161\n",
            "Epoch 49/100\n",
            "76/76 [==============================] - 2s 28ms/step - loss: 3.7169 - accuracy: 0.4814 - val_loss: 5.4542 - val_accuracy: 0.2907\n",
            "Epoch 50/100\n",
            "76/76 [==============================] - 3s 44ms/step - loss: 4.4742 - accuracy: 0.2740 - val_loss: 5.3734 - val_accuracy: 0.2715\n",
            "Epoch 51/100\n",
            "76/76 [==============================] - 2s 30ms/step - loss: 4.2443 - accuracy: 0.3331 - val_loss: 5.2038 - val_accuracy: 0.3022\n",
            "Epoch 52/100\n",
            "76/76 [==============================] - 2s 26ms/step - loss: 4.1085 - accuracy: 0.3706 - val_loss: 5.1031 - val_accuracy: 0.3309\n",
            "Epoch 53/100\n",
            "76/76 [==============================] - 2s 25ms/step - loss: 3.9674 - accuracy: 0.4084 - val_loss: 5.0351 - val_accuracy: 0.3555\n",
            "Epoch 54/100\n",
            "76/76 [==============================] - 2s 25ms/step - loss: 3.8236 - accuracy: 0.4420 - val_loss: 4.9782 - val_accuracy: 0.3850\n",
            "Epoch 55/100\n",
            "76/76 [==============================] - 2s 24ms/step - loss: 3.7085 - accuracy: 0.4655 - val_loss: 4.9437 - val_accuracy: 0.3995\n",
            "Epoch 56/100\n",
            "76/76 [==============================] - 3s 41ms/step - loss: 3.6580 - accuracy: 0.4826 - val_loss: 4.9065 - val_accuracy: 0.4123\n",
            "Epoch 57/100\n",
            "76/76 [==============================] - 3s 40ms/step - loss: 3.5836 - accuracy: 0.4938 - val_loss: 4.8743 - val_accuracy: 0.4136\n",
            "Epoch 58/100\n",
            "76/76 [==============================] - 2s 25ms/step - loss: 3.5993 - accuracy: 0.4962 - val_loss: 4.9799 - val_accuracy: 0.3995\n",
            "Epoch 59/100\n",
            "76/76 [==============================] - 2s 22ms/step - loss: 3.5765 - accuracy: 0.4966 - val_loss: 4.8669 - val_accuracy: 0.4223\n",
            "Epoch 60/100\n",
            "76/76 [==============================] - 2s 22ms/step - loss: 3.5123 - accuracy: 0.5089 - val_loss: 4.8844 - val_accuracy: 0.4273\n",
            "Epoch 61/100\n",
            "76/76 [==============================] - 2s 23ms/step - loss: 3.4900 - accuracy: 0.5163 - val_loss: 4.8728 - val_accuracy: 0.4283\n",
            "Epoch 62/100\n",
            "76/76 [==============================] - 2s 25ms/step - loss: 3.4844 - accuracy: 0.5213 - val_loss: 4.8898 - val_accuracy: 0.4281\n",
            "Epoch 63/100\n",
            "76/76 [==============================] - 3s 40ms/step - loss: 3.4884 - accuracy: 0.5181 - val_loss: 4.9028 - val_accuracy: 0.4228\n",
            "Epoch 64/100\n",
            "76/76 [==============================] - 3s 36ms/step - loss: 3.4978 - accuracy: 0.5139 - val_loss: 4.8382 - val_accuracy: 0.4339\n",
            "Epoch 65/100\n",
            "76/76 [==============================] - 2s 25ms/step - loss: 3.4524 - accuracy: 0.5168 - val_loss: 4.9198 - val_accuracy: 0.4158\n",
            "Epoch 66/100\n",
            "76/76 [==============================] - 2s 24ms/step - loss: 3.4705 - accuracy: 0.5199 - val_loss: 4.8245 - val_accuracy: 0.4353\n",
            "Epoch 67/100\n",
            "76/76 [==============================] - 2s 23ms/step - loss: 3.4068 - accuracy: 0.5353 - val_loss: 4.8651 - val_accuracy: 0.4191\n",
            "Epoch 68/100\n",
            "76/76 [==============================] - 2s 26ms/step - loss: 3.4120 - accuracy: 0.5239 - val_loss: 4.8253 - val_accuracy: 0.4327\n",
            "Epoch 69/100\n",
            "76/76 [==============================] - 2s 27ms/step - loss: 3.5219 - accuracy: 0.5210 - val_loss: 4.9680 - val_accuracy: 0.4253\n",
            "Epoch 70/100\n",
            "76/76 [==============================] - 4s 48ms/step - loss: 3.5121 - accuracy: 0.5251 - val_loss: 4.9306 - val_accuracy: 0.4299\n",
            "Epoch 71/100\n",
            "76/76 [==============================] - 2s 29ms/step - loss: 3.4370 - accuracy: 0.5277 - val_loss: 4.8213 - val_accuracy: 0.4426\n",
            "Epoch 72/100\n",
            "76/76 [==============================] - 2s 24ms/step - loss: 3.3692 - accuracy: 0.5403 - val_loss: 4.8417 - val_accuracy: 0.4452\n",
            "Epoch 73/100\n",
            "76/76 [==============================] - 2s 28ms/step - loss: 3.3602 - accuracy: 0.5392 - val_loss: 4.8840 - val_accuracy: 0.4289\n",
            "Epoch 74/100\n",
            "76/76 [==============================] - 2s 25ms/step - loss: 3.6688 - accuracy: 0.4912 - val_loss: 4.8681 - val_accuracy: 0.4358\n",
            "Epoch 75/100\n",
            "76/76 [==============================] - 2s 24ms/step - loss: 3.3908 - accuracy: 0.5328 - val_loss: 4.8499 - val_accuracy: 0.4439\n",
            "Epoch 76/100\n",
            "76/76 [==============================] - 2s 32ms/step - loss: 3.3854 - accuracy: 0.5402 - val_loss: 4.8318 - val_accuracy: 0.4449\n",
            "Epoch 77/100\n",
            "76/76 [==============================] - 3s 46ms/step - loss: 3.4405 - accuracy: 0.5217 - val_loss: 4.8296 - val_accuracy: 0.4452\n",
            "Epoch 78/100\n",
            "76/76 [==============================] - 2s 25ms/step - loss: 3.4427 - accuracy: 0.5248 - val_loss: 5.0365 - val_accuracy: 0.3978\n",
            "Epoch 79/100\n",
            "76/76 [==============================] - 2s 26ms/step - loss: 3.4149 - accuracy: 0.5230 - val_loss: 4.8122 - val_accuracy: 0.4477\n",
            "Epoch 80/100\n",
            "76/76 [==============================] - 2s 26ms/step - loss: 3.4485 - accuracy: 0.5247 - val_loss: 4.8395 - val_accuracy: 0.4286\n",
            "Epoch 81/100\n",
            "76/76 [==============================] - 2s 25ms/step - loss: 3.3329 - accuracy: 0.5420 - val_loss: 4.8371 - val_accuracy: 0.4317\n",
            "Epoch 82/100\n",
            "76/76 [==============================] - 2s 24ms/step - loss: 3.3045 - accuracy: 0.5474 - val_loss: 4.8220 - val_accuracy: 0.4446\n",
            "Epoch 83/100\n",
            "76/76 [==============================] - 3s 45ms/step - loss: 3.2785 - accuracy: 0.5535 - val_loss: 4.8134 - val_accuracy: 0.4462\n",
            "Epoch 84/100\n",
            "76/76 [==============================] - 3s 34ms/step - loss: 3.4069 - accuracy: 0.5330 - val_loss: 4.8232 - val_accuracy: 0.4436\n",
            "Epoch 85/100\n",
            "76/76 [==============================] - 2s 24ms/step - loss: 3.2925 - accuracy: 0.5491 - val_loss: 4.8147 - val_accuracy: 0.4335\n",
            "Epoch 86/100\n",
            "76/76 [==============================] - 2s 24ms/step - loss: 3.3833 - accuracy: 0.5140 - val_loss: 4.8750 - val_accuracy: 0.4131\n",
            "Epoch 87/100\n",
            "76/76 [==============================] - 2s 24ms/step - loss: 3.3305 - accuracy: 0.5395 - val_loss: 4.8106 - val_accuracy: 0.4330\n",
            "Epoch 88/100\n",
            "76/76 [==============================] - 2s 23ms/step - loss: 3.3012 - accuracy: 0.5461 - val_loss: 4.7812 - val_accuracy: 0.4442\n",
            "Epoch 89/100\n",
            "76/76 [==============================] - 2s 27ms/step - loss: 3.7180 - accuracy: 0.4565 - val_loss: 5.2273 - val_accuracy: 0.3215\n",
            "Epoch 90/100\n",
            "76/76 [==============================] - 3s 43ms/step - loss: 3.7738 - accuracy: 0.4466 - val_loss: 4.8252 - val_accuracy: 0.4200\n",
            "Epoch 91/100\n",
            "76/76 [==============================] - 2s 28ms/step - loss: 3.5420 - accuracy: 0.5041 - val_loss: 4.8911 - val_accuracy: 0.4141\n",
            "Epoch 92/100\n",
            "76/76 [==============================] - 2s 23ms/step - loss: 3.4362 - accuracy: 0.5219 - val_loss: 4.9367 - val_accuracy: 0.4161\n",
            "Epoch 93/100\n",
            "76/76 [==============================] - 2s 25ms/step - loss: 3.4095 - accuracy: 0.5240 - val_loss: 4.8640 - val_accuracy: 0.4294\n",
            "Epoch 94/100\n",
            "76/76 [==============================] - 2s 23ms/step - loss: 3.3454 - accuracy: 0.5381 - val_loss: 4.9502 - val_accuracy: 0.3996\n",
            "Epoch 95/100\n",
            "76/76 [==============================] - 2s 26ms/step - loss: 3.6140 - accuracy: 0.4805 - val_loss: 4.7854 - val_accuracy: 0.4319\n",
            "Epoch 96/100\n",
            "76/76 [==============================] - 2s 30ms/step - loss: 3.3620 - accuracy: 0.5376 - val_loss: 4.7681 - val_accuracy: 0.4416\n",
            "Epoch 97/100\n",
            "76/76 [==============================] - 3s 44ms/step - loss: 3.3287 - accuracy: 0.5436 - val_loss: 4.8064 - val_accuracy: 0.4363\n",
            "Epoch 98/100\n",
            "76/76 [==============================] - 2s 26ms/step - loss: 3.2863 - accuracy: 0.5523 - val_loss: 4.8068 - val_accuracy: 0.4418\n",
            "Epoch 99/100\n",
            "76/76 [==============================] - 2s 26ms/step - loss: 3.2814 - accuracy: 0.5534 - val_loss: 4.7799 - val_accuracy: 0.4431\n",
            "Epoch 100/100\n",
            "76/76 [==============================] - 2s 24ms/step - loss: 3.2921 - accuracy: 0.5582 - val_loss: 4.8569 - val_accuracy: 0.4276\n"
          ]
        }
      ]
    },
    {
      "cell_type": "code",
      "source": [
        "model.save('/content/drive/My Drive/Colab Notebooks/Procesamiento del lenguaje natural/model_bot_QA_3.keras')\n",
        "#model = load_model('/content/drive/My Drive/model_bot_QA.keras')"
      ],
      "metadata": {
        "id": "ZHI4PndlbPkL"
      },
      "execution_count": 75,
      "outputs": []
    },
    {
      "cell_type": "code",
      "source": [
        "train_loss = hist.history['loss']\n",
        "val_loss = hist.history['val_loss']\n",
        "\n",
        "accuracy = hist.history['accuracy']\n",
        "val_accuracy = hist.history['val_accuracy']\n",
        "\n",
        "\n",
        "# Graficar las curvas de precisión\n",
        "fig, axes = plt.subplots(1, 2, figsize=(12, 4))\n",
        "\n",
        "#Grafico de Loss\n",
        "plt.subplot(1, 2, 1)\n",
        "plt.plot(train_loss, label='Train loss')\n",
        "plt.plot(val_loss, label='Validation loss')\n",
        "plt.ylim(0, 15)\n",
        "plt.xlabel('Epochs')\n",
        "plt.ylabel('Loss')\n",
        "plt.title('Loss')\n",
        "\n",
        "#Grafico de Accuracy\n",
        "plt.subplot(1,2,2)\n",
        "plt.plot(accuracy, label='Train accuracy')\n",
        "plt.plot(val_accuracy, label='Validation accuracy')\n",
        "plt.ylim(0, 1)\n",
        "plt.xlabel('Epochs')\n",
        "plt.ylabel('Accuracy')\n",
        "plt.title('Accuracy')\n",
        "plt.legend()\n",
        "plt.show()"
      ],
      "metadata": {
        "id": "PUcAlbco_0N8",
        "colab": {
          "base_uri": "https://localhost:8080/",
          "height": 410
        },
        "outputId": "0823f787-c6e7-405a-fb6e-26d4a4a107d5"
      },
      "execution_count": 76,
      "outputs": [
        {
          "output_type": "display_data",
          "data": {
            "text/plain": [
              "<Figure size 1200x400 with 2 Axes>"
            ],
            "image/png": "[encoded data removed]"
          },
          "metadata": {}
        }
      ]
    },
    {
      "cell_type": "markdown",
      "metadata": {
        "id": "Zbwn0ekDy_s2"
      },
      "source": [
        "### 5 - Inferencia\n",
        "Experimentar el funcionamiento de su modelo. Recuerde que debe realizar la inferencia de los modelos por separado de encoder y decoder."
      ]
    },
    {
      "cell_type": "code",
      "source": [
        "def qa_predict(text,model):\n",
        "\n",
        "    def tokenize_text(text, word_index_in):\n",
        "        tokens = [word_index_in[word] for word in text.split() if word in word_index_in]\n",
        "        return tokens\n",
        "\n",
        "    # Texto de entrada para la inferencia\n",
        "    input_text = text\n",
        "\n",
        "    # Tokenizo el texto de entrada\n",
        "    input_tokens = tokenize_text(input_text, word_index_in)\n",
        "\n",
        "    # Realizo padding\n",
        "    input_tokens_padded = pad_sequences([input_tokens], maxlen=max_input_len, padding='post')\n",
        "\n",
        "    encoder_model = Model(encoder_inputs, encoder_states)\n",
        "\n",
        "    # Obtener el estado del encoder\n",
        "    encoder_states_value = encoder_model.predict(input_tokens_padded)\n",
        "\n",
        "    # Inicializo la secuencia de salida del decoder con una secuencia de inicio\n",
        "    target_seq = np.zeros((1, 1))\n",
        "    target_seq[0, 0] = word_index_out['sos']  # Reemplazar con el índice del token de inicio\n",
        "\n",
        "    # Decoder para inferencia\n",
        "    decoder_state_input_h = Input(shape=(latent_dim,))\n",
        "    decoder_state_input_c = Input(shape=(latent_dim,))\n",
        "    decoder_states_inputs = [decoder_state_input_h, decoder_state_input_c]\n",
        "    decoder_outputs, state_h, state_c = decoder_lstm(\n",
        "        decoder_embedding, initial_state=decoder_states_inputs\n",
        "    )\n",
        "    decoder_states = [state_h, state_c]\n",
        "    decoder_outputs = decoder_dense(decoder_outputs)\n",
        "\n",
        "    decoder_model = Model(\n",
        "        [decoder_inputs] + decoder_states_inputs, [decoder_outputs] + decoder_states\n",
        "    )\n",
        "\n",
        "    stop_condition = False\n",
        "    decoded_sentence = ''\n",
        "    while not stop_condition:\n",
        "        output_tokens, h, c = decoder_model.predict([target_seq] + encoder_states_value)\n",
        "\n",
        "        # Muestreo estocástico\n",
        "        sampled_token_index = np.argmax(output_tokens[0, -1, :])\n",
        "        sampled_word = index_to_word_output(sampled_token_index,word_index_out)\n",
        "\n",
        "        # Salir del bucle si se alcanza el token de fin o se llega a la longitud máxima\n",
        "        if sampled_word == 'eos' or len(decoded_sentence) > max_output_len:\n",
        "            stop_condition = True\n",
        "        else:\n",
        "            decoded_sentence += sampled_word + ' '\n",
        "\n",
        "        # Actualizar la secuencia de destino para el próximo paso\n",
        "        target_seq = np.zeros((1, 1))\n",
        "        target_seq[0, 0] = sampled_token_index\n",
        "\n",
        "        # Actualizar el estado del decoder\n",
        "        encoder_states_value = [h, c]\n",
        "\n",
        "    print('Texto de entrada:', input_text)\n",
        "    print('Texto generado:', decoded_sentence)"
      ],
      "metadata": {
        "id": "UfMoildTulBf"
      },
      "execution_count": 49,
      "outputs": []
    },
    {
      "cell_type": "code",
      "source": [
        "text = 'we should rest for a while'\n",
        "response = qa_predict(text,model)"
      ],
      "metadata": {
        "id": "8eRuTb1m1l9w",
        "colab": {
          "base_uri": "https://localhost:8080/"
        },
        "outputId": "8875e44c-0fe3-4205-e18a-63ecc5aa2f1b"
      },
      "execution_count": 55,
      "outputs": [
        {
          "output_type": "stream",
          "name": "stdout",
          "text": [
            "1/1 [==============================] - 1s 1s/step\n",
            "1/1 [==============================] - 1s 1s/step\n",
            "1/1 [==============================] - 0s 20ms/step\n",
            "1/1 [==============================] - 0s 18ms/step\n",
            "1/1 [==============================] - 0s 23ms/step\n",
            "1/1 [==============================] - 0s 19ms/step\n",
            "Texto de entrada: we should rest for a while\n",
            "Texto generado: i m a good \n"
          ]
        }
      ]
    },
    {
      "cell_type": "code",
      "source": [
        "text2 = 'Do you like to read?'\n",
        "response = qa_predict(text2,model)"
      ],
      "metadata": {
        "id": "fTebCFvH1l5S",
        "colab": {
          "base_uri": "https://localhost:8080/"
        },
        "outputId": "c633b133-6837-4512-e77b-d9d3063f66ed"
      },
      "execution_count": 51,
      "outputs": [
        {
          "output_type": "stream",
          "name": "stdout",
          "text": [
            "1/1 [==============================] - 1s 1s/step\n",
            "1/1 [==============================] - 1s 1s/step\n",
            "1/1 [==============================] - 0s 19ms/step\n",
            "1/1 [==============================] - 0s 19ms/step\n",
            "Texto de entrada: Do you like to read?\n",
            "Texto generado: you too \n"
          ]
        }
      ]
    },
    {
      "cell_type": "code",
      "source": [
        "text3 = 'man...it is so cold'\n",
        "response = qa_predict(text3,model)"
      ],
      "metadata": {
        "id": "Ax4pGXaI1lzL",
        "colab": {
          "base_uri": "https://localhost:8080/"
        },
        "outputId": "7df6e242-ef51-4fee-9cd0-5e5a4497d596"
      },
      "execution_count": 53,
      "outputs": [
        {
          "output_type": "stream",
          "name": "stdout",
          "text": [
            "1/1 [==============================] - 1s 1s/step\n",
            "1/1 [==============================] - 2s 2s/step\n",
            "1/1 [==============================] - 0s 32ms/step\n",
            "1/1 [==============================] - 0s 31ms/step\n",
            "1/1 [==============================] - 0s 34ms/step\n",
            "Texto de entrada: man...it is so cold\n",
            "Texto generado: what you do \n"
          ]
        }
      ]
    },
    {
      "cell_type": "code",
      "source": [
        "text4 = 'i am vegan'\n",
        "response = qa_predict(text4,model)"
      ],
      "metadata": {
        "colab": {
          "base_uri": "https://localhost:8080/"
        },
        "id": "GfyKV_sVzoDr",
        "outputId": "275c66e1-e6ff-4c78-dc8d-c30ea89d1181"
      },
      "execution_count": 81,
      "outputs": [
        {
          "output_type": "stream",
          "name": "stdout",
          "text": [
            "1/1 [==============================] - 1s 1s/step\n",
            "1/1 [==============================] - 2s 2s/step\n",
            "1/1 [==============================] - 0s 20ms/step\n",
            "1/1 [==============================] - 0s 19ms/step\n",
            "Texto de entrada: i am vegan\n",
            "Texto generado: i am \n"
          ]
        }
      ]
    }
  ],
  "metadata": {
    "colab": {
      "provenance": [],
      "gpuType": "T4"
    },
    "kernelspec": {
      "display_name": "Python 3",
      "name": "python3"
    },
    "language_info": {
      "name": "python",
      "version": "3.10.6"
    },
    "vscode": {
      "interpreter": {
        "hash": "916dbcbb3f70747c44a77c7bcd40155683ae19c65e1c03b4aa3499c5328201f1"
      }
    },
    "accelerator": "GPU"
  },
  "nbformat": 4,
  "nbformat_minor": 0
}